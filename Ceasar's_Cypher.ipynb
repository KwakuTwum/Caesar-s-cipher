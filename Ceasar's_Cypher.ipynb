{
 "cells": [
  {
   "cell_type": "code",
   "execution_count": 4,
   "id": "6eaa6c01-e18a-40cc-9204-31b3f803cd72",
   "metadata": {},
   "outputs": [
    {
     "name": "stdout",
     "output_type": "stream",
     "text": [
      "Welcome to the encryption/decryption program\n"
     ]
    },
    {
     "ename": "KeyboardInterrupt",
     "evalue": "Interrupted by user",
     "output_type": "error",
     "traceback": [
      "\u001b[1;31m---------------------------------------------------------------------------\u001b[0m",
      "\u001b[1;31mKeyboardInterrupt\u001b[0m                         Traceback (most recent call last)",
      "Cell \u001b[1;32mIn [4], line 52\u001b[0m\n\u001b[0;32m     49\u001b[0m \u001b[39m# Loop until a valid option is selected\u001b[39;00m\n\u001b[0;32m     50\u001b[0m \u001b[39mwhile\u001b[39;00m \u001b[39mTrue\u001b[39;00m:\n\u001b[0;32m     51\u001b[0m     \u001b[39m# Ask the user whether they want to encrypt or decrypt\u001b[39;00m\n\u001b[1;32m---> 52\u001b[0m     user_input \u001b[39m=\u001b[39m \u001b[39minput\u001b[39;49m(\u001b[39m'\u001b[39;49m\u001b[39mDo you want to encrypt or decrypt? \u001b[39;49m\u001b[39m'\u001b[39;49m)\u001b[39m.\u001b[39mlower()\n\u001b[0;32m     54\u001b[0m     \u001b[39m# Check if the input is valid\u001b[39;00m\n\u001b[0;32m     55\u001b[0m     \u001b[39mif\u001b[39;00m user_input \u001b[39min\u001b[39;00m [\u001b[39m'\u001b[39m\u001b[39mencrypt\u001b[39m\u001b[39m'\u001b[39m, \u001b[39m'\u001b[39m\u001b[39mdecrypt\u001b[39m\u001b[39m'\u001b[39m]:\n",
      "File \u001b[1;32mc:\\Users\\kayte\\AppData\\Local\\Programs\\Python\\Python311\\Lib\\site-packages\\ipykernel\\kernelbase.py:1177\u001b[0m, in \u001b[0;36mKernel.raw_input\u001b[1;34m(self, prompt)\u001b[0m\n\u001b[0;32m   1173\u001b[0m \u001b[39mif\u001b[39;00m \u001b[39mnot\u001b[39;00m \u001b[39mself\u001b[39m\u001b[39m.\u001b[39m_allow_stdin:\n\u001b[0;32m   1174\u001b[0m     \u001b[39mraise\u001b[39;00m StdinNotImplementedError(\n\u001b[0;32m   1175\u001b[0m         \u001b[39m\"\u001b[39m\u001b[39mraw_input was called, but this frontend does not support input requests.\u001b[39m\u001b[39m\"\u001b[39m\n\u001b[0;32m   1176\u001b[0m     )\n\u001b[1;32m-> 1177\u001b[0m \u001b[39mreturn\u001b[39;00m \u001b[39mself\u001b[39;49m\u001b[39m.\u001b[39;49m_input_request(\n\u001b[0;32m   1178\u001b[0m     \u001b[39mstr\u001b[39;49m(prompt),\n\u001b[0;32m   1179\u001b[0m     \u001b[39mself\u001b[39;49m\u001b[39m.\u001b[39;49m_parent_ident[\u001b[39m\"\u001b[39;49m\u001b[39mshell\u001b[39;49m\u001b[39m\"\u001b[39;49m],\n\u001b[0;32m   1180\u001b[0m     \u001b[39mself\u001b[39;49m\u001b[39m.\u001b[39;49mget_parent(\u001b[39m\"\u001b[39;49m\u001b[39mshell\u001b[39;49m\u001b[39m\"\u001b[39;49m),\n\u001b[0;32m   1181\u001b[0m     password\u001b[39m=\u001b[39;49m\u001b[39mFalse\u001b[39;49;00m,\n\u001b[0;32m   1182\u001b[0m )\n",
      "File \u001b[1;32mc:\\Users\\kayte\\AppData\\Local\\Programs\\Python\\Python311\\Lib\\site-packages\\ipykernel\\kernelbase.py:1219\u001b[0m, in \u001b[0;36mKernel._input_request\u001b[1;34m(self, prompt, ident, parent, password)\u001b[0m\n\u001b[0;32m   1216\u001b[0m             \u001b[39mbreak\u001b[39;00m\n\u001b[0;32m   1217\u001b[0m \u001b[39mexcept\u001b[39;00m \u001b[39mKeyboardInterrupt\u001b[39;00m:\n\u001b[0;32m   1218\u001b[0m     \u001b[39m# re-raise KeyboardInterrupt, to truncate traceback\u001b[39;00m\n\u001b[1;32m-> 1219\u001b[0m     \u001b[39mraise\u001b[39;00m \u001b[39mKeyboardInterrupt\u001b[39;00m(\u001b[39m\"\u001b[39m\u001b[39mInterrupted by user\u001b[39m\u001b[39m\"\u001b[39m) \u001b[39mfrom\u001b[39;00m \u001b[39mNone\u001b[39m\n\u001b[0;32m   1220\u001b[0m \u001b[39mexcept\u001b[39;00m \u001b[39mException\u001b[39;00m:\n\u001b[0;32m   1221\u001b[0m     \u001b[39mself\u001b[39m\u001b[39m.\u001b[39mlog\u001b[39m.\u001b[39mwarning(\u001b[39m\"\u001b[39m\u001b[39mInvalid Message:\u001b[39m\u001b[39m\"\u001b[39m, exc_info\u001b[39m=\u001b[39m\u001b[39mTrue\u001b[39;00m)\n",
      "\u001b[1;31mKeyboardInterrupt\u001b[0m: Interrupted by user"
     ]
    }
   ],
   "source": [
    "letters = 'ABCDEFGHIJKLMNOPQRSTUVWXYZ'\n",
    "number_of_letters = len(letters)\n",
    "\n",
    "# define encryption function\n",
    "def encrypt(plaintext, key):\n",
    "    ciphertext = ''\n",
    "    for letter in plaintext:\n",
    "        if letter.isalpha():\n",
    "            uppercase = letter.isupper()\n",
    "            letter = letter.upper()\n",
    "            index = letters.find(letter)\n",
    "            if index == -1:\n",
    "                ciphertext += letter\n",
    "            else:\n",
    "                new_index = (index - key) % number_of_letters\n",
    "                new_letter = letters[new_index]\n",
    "                if uppercase:\n",
    "                    ciphertext += new_letter\n",
    "                else:\n",
    "                    ciphertext += new_letter.lower()\n",
    "        else:\n",
    "            ciphertext += letter\n",
    "    return ciphertext\n",
    "\n",
    "# define decryption function      \n",
    "def decrypt(ciphertext, key):\n",
    "    plaintext = ''\n",
    "    for letter in ciphertext:\n",
    "        if letter.isalpha():\n",
    "            uppercase = letter.isupper()\n",
    "            letter = letter.upper()\n",
    "            index = letters.find(letter)\n",
    "            if index == -1:\n",
    "                plaintext += letter\n",
    "            else:\n",
    "                new_index = (index + key) % number_of_letters\n",
    "                new_letter = letters[new_index]\n",
    "                if uppercase:\n",
    "                    plaintext += new_letter\n",
    "                else:\n",
    "                    plaintext += new_letter.lower()\n",
    "        else:\n",
    "            plaintext += letter\n",
    "    return plaintext\n",
    "\n",
    "# Print the welcome message to the user\n",
    "print('Welcome to the encryption/decryption program')\n",
    "\n",
    "# Loop until a valid option is selected\n",
    "while True:\n",
    "    # Ask the user whether they want to encrypt or decrypt\n",
    "    user_input = input('Do you want to encrypt or decrypt? ').lower()\n",
    "\n",
    "    # Check if the input is valid\n",
    "    if user_input in ['encrypt', 'decrypt']:\n",
    "        break\n",
    "    else:\n",
    "        # Display an error message and continue the loop\n",
    "        print('Invalid input. Please enter either \"encrypt\" or \"decrypt\".')\n",
    "\n",
    "# Set the encryption/decryption key\n",
    "key = int(input('Enter the key (1 through 26): '))\n",
    "\n",
    "# Take in the text to be encrypted/decrypted\n",
    "while True:\n",
    "    # Ask the user to enter some text to encrypt/decrypt\n",
    "    text = input('Enter the text or the message you want to {}: '.format(user_input))\n",
    "\n",
    "    # Check if the input is valid\n",
    "    if text:\n",
    "        break\n",
    "    else:\n",
    "        # Display an error message and continue the loop\n",
    "        print('Invalid input. Please enter some text.')\n",
    "\n",
    "# Encrypt or decrypt the text as requested by the user\n",
    "if user_input == 'encrypt':\n",
    "    ciphertext = encrypt(text, key)\n",
    "    print(f'Encrypted text: {ciphertext}')\n",
    "elif user_input == 'decrypt':\n",
    "    plaintext = decrypt(text, key)\n",
    "    print(f'Decrypted text: {plaintext}')\n"
   ]
  },
  {
   "cell_type": "code",
   "execution_count": null,
   "id": "6deb03aa-a089-4a1a-8a68-bf5d2ef88bd6",
   "metadata": {},
   "outputs": [],
   "source": []
  }
 ],
 "metadata": {
  "kernelspec": {
   "display_name": "Python 3",
   "language": "python",
   "name": "python3"
  },
  "language_info": {
   "codemirror_mode": {
    "name": "ipython",
    "version": 3
   },
   "file_extension": ".py",
   "mimetype": "text/x-python",
   "name": "python",
   "nbconvert_exporter": "python",
   "pygments_lexer": "ipython3",
   "version": "3.11.0"
  },
  "vscode": {
   "interpreter": {
    "hash": "d274161f6c2c4c95bc1e24b0690679d9cbbde0b3300e5ba089a1cfdfbcfc1b79"
   }
  }
 },
 "nbformat": 4,
 "nbformat_minor": 5
}
